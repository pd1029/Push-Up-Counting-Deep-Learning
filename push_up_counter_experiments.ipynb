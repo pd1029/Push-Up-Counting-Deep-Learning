{
  "nbformat": 4,
  "nbformat_minor": 0,
  "metadata": {
    "colab": {
      "name": "push_up_counter_experiments",
      "provenance": [],
      "collapsed_sections": []
    },
    "kernelspec": {
      "name": "python3",
      "display_name": "Python 3"
    }
  },
  "cells": [
    {
      "cell_type": "code",
      "metadata": {
        "id": "vRGS1i2B0oAS",
        "outputId": "76dbc648-1776-4970-b3d4-e9b0f8788067",
        "colab": {
          "base_uri": "https://localhost:8080/"
        }
      },
      "source": [
        "!git clone https://github.com/pd1029/Push-Up-Counting-Deep-Learning"
      ],
      "execution_count": null,
      "outputs": [
        {
          "output_type": "stream",
          "text": [
            "Cloning into 'Deep-Learning-Push-Up-Counter'...\n",
            "remote: Enumerating objects: 38, done.\u001b[K\n",
            "remote: Counting objects: 100% (38/38), done.\u001b[K\n",
            "remote: Compressing objects: 100% (36/36), done.\u001b[K\n",
            "remote: Total 537 (delta 21), reused 7 (delta 2), pack-reused 499\u001b[K\n",
            "Receiving objects: 100% (537/537), 93.94 MiB | 22.61 MiB/s, done.\n",
            "Resolving deltas: 100% (34/34), done.\n"
          ],
          "name": "stdout"
        }
      ]
    },
    {
      "cell_type": "code",
      "metadata": {
        "id": "Xunr2UOe1TDI",
        "outputId": "c2039df7-c637-4b00-dbae-5beab5631467",
        "colab": {
          "base_uri": "https://localhost:8080/"
        }
      },
      "source": [
        "!ls"
      ],
      "execution_count": null,
      "outputs": [
        {
          "output_type": "stream",
          "text": [
            "data  exercise_predictor.ipynb\tLICENSE  model.h5  README.md  test_video.mov\n"
          ],
          "name": "stdout"
        }
      ]
    },
    {
      "cell_type": "code",
      "metadata": {
        "id": "8nz6gyub1aUS",
        "outputId": "00fcd77f-dfc0-47af-da53-ce0f494f90a8",
        "colab": {
          "base_uri": "https://localhost:8080/"
        }
      },
      "source": [
        "cd Deep-Learning-Push-Up-Counter"
      ],
      "execution_count": null,
      "outputs": [
        {
          "output_type": "stream",
          "text": [
            "[Errno 2] No such file or directory: 'Deep-Learning-Push-Up-Counter'\n",
            "/content/Deep-Learning-Push-Up-Counter\n"
          ],
          "name": "stdout"
        }
      ]
    },
    {
      "cell_type": "code",
      "metadata": {
        "id": "A4tEUHs51dc_"
      },
      "source": [
        "import tensorflow as tf\n",
        "import numpy as np\n",
        "from tensorflow.keras.preprocessing.image import ImageDataGenerator\n",
        "import distutils"
      ],
      "execution_count": null,
      "outputs": []
    },
    {
      "cell_type": "code",
      "metadata": {
        "id": "B5qN6iCT1inI",
        "outputId": "13a16ee6-ef83-4656-aff6-f123d8edadcd",
        "colab": {
          "base_uri": "https://localhost:8080/"
        }
      },
      "source": [
        "train_datagen = ImageDataGenerator(\n",
        "    rescale=1./255,\n",
        "    shear_range=0.2,\n",
        "    zoom_range=0.2,\n",
        "    horizontal_flip=True)\n",
        "\n",
        "test_datagen = ImageDataGenerator(rescale=1./255)\n",
        "train_generator = train_datagen.flow_from_directory(\n",
        "    './data/train',\n",
        "    target_size=(64, 64),\n",
        "    color_mode=\"rgb\",\n",
        "    batch_size=16,\n",
        "    class_mode='categorical',\n",
        "    shuffle=True,\n",
        "    seed=42)\n",
        "\n",
        "validation_generator = test_datagen.flow_from_directory(\n",
        "    './data/validation',\n",
        "    target_size=(64, 64),\n",
        "    batch_size=1,\n",
        "    class_mode='categorical')"
      ],
      "execution_count": null,
      "outputs": [
        {
          "output_type": "stream",
          "text": [
            "Found 376 images belonging to 3 classes.\n",
            "Found 84 images belonging to 3 classes.\n"
          ],
          "name": "stdout"
        }
      ]
    },
    {
      "cell_type": "code",
      "metadata": {
        "id": "O9DEhG1Y1oVr"
      },
      "source": [
        "def create_model():\n",
        "  model = tf.keras.models.Sequential()\n",
        "  model.add(tf.keras.Input(shape=(64,64,3)))\n",
        "  #model.add(tf.keras.layers.BatchNormalization())\n",
        "  model.add(tf.keras.layers.Conv2D(6, (3, 3), padding='same', activation='relu'))\n",
        "  model.add(tf.keras.layers.MaxPooling2D(pool_size=(2, 2)))\n",
        "  \n",
        "  model.add(tf.keras.layers.Conv2D(16, (3,3), padding='same', activation='relu'))\n",
        "  model.add(tf.keras.layers.MaxPooling2D(pool_size=(2, 2)))\n",
        "\n",
        "  #model.add(tf.keras.layers.BatchNormalization())\n",
        "  model.add(tf.keras.layers.Conv2D(32, (3,3), padding='same', activation='relu'))\n",
        "  model.add(tf.keras.layers.MaxPooling2D(pool_size=(2, 2), strides=(2,2)))\n",
        "\n",
        "  #model.add(tf.keras.layers.BatchNormalization())\n",
        "  model.add(tf.keras.layers.Conv2D(64, (3,3), padding='same', activation='relu'))\n",
        "  model.add(tf.keras.layers.MaxPooling2D(pool_size=(2, 2), strides=(2,2)))  \n",
        "\n",
        "  model.add(tf.keras.layers.Dropout(0.25))\n",
        "\n",
        "  model.add(tf.keras.layers.Flatten())\n",
        "  model.add(tf.keras.layers.Dense(512))\n",
        "  model.add(tf.keras.layers.Activation('relu'))\n",
        "  model.add(tf.keras.layers.Dropout(0.5))\n",
        "  model.add(tf.keras.layers.Dense(128))\n",
        "  model.add(tf.keras.layers.Activation('relu'))\n",
        "  model.add(tf.keras.layers.Dropout(0.5))\n",
        "  model.add(tf.keras.layers.Dense(64))\n",
        "  model.add(tf.keras.layers.Dropout(0.5))\n",
        "  model.add(tf.keras.layers.Dense(3))\n",
        "  model.add(tf.keras.layers.Activation('softmax'))\n",
        "  return model"
      ],
      "execution_count": null,
      "outputs": []
    },
    {
      "cell_type": "code",
      "metadata": {
        "id": "E1bL4mCV1t-M",
        "outputId": "949186fe-82ee-4b2b-f55c-1ca5c773850a",
        "colab": {
          "base_uri": "https://localhost:8080/"
        }
      },
      "source": [
        "model = create_model()\n",
        "model.compile(\n",
        "      optimizer=tf.keras.optimizers.Adam(learning_rate=1e-3),\n",
        "      loss='categorical_crossentropy',\n",
        "      metrics=['categorical_accuracy'])\n",
        "\n",
        "model.fit(\n",
        "    train_generator,\n",
        "    epochs=10,\n",
        "    validation_data=validation_generator,\n",
        "    validation_freq=1\n",
        ")\n",
        "\n",
        "model.save('model.h5', overwrite=True)"
      ],
      "execution_count": null,
      "outputs": [
        {
          "output_type": "stream",
          "text": [
            "Epoch 1/10\n",
            "24/24 [==============================] - 8s 314ms/step - loss: 0.9914 - categorical_accuracy: 0.4761 - val_loss: 0.6439 - val_categorical_accuracy: 0.7857\n",
            "Epoch 2/10\n",
            "24/24 [==============================] - 7s 312ms/step - loss: 0.6024 - categorical_accuracy: 0.7686 - val_loss: 0.3473 - val_categorical_accuracy: 0.8333\n",
            "Epoch 3/10\n",
            "24/24 [==============================] - 7s 303ms/step - loss: 0.4551 - categorical_accuracy: 0.8085 - val_loss: 0.2812 - val_categorical_accuracy: 0.8810\n",
            "Epoch 4/10\n",
            "24/24 [==============================] - 7s 302ms/step - loss: 0.3966 - categorical_accuracy: 0.8670 - val_loss: 0.2660 - val_categorical_accuracy: 0.8929\n",
            "Epoch 5/10\n",
            "24/24 [==============================] - 7s 305ms/step - loss: 0.3684 - categorical_accuracy: 0.8883 - val_loss: 0.2461 - val_categorical_accuracy: 0.9167\n",
            "Epoch 6/10\n",
            "24/24 [==============================] - 7s 308ms/step - loss: 0.3508 - categorical_accuracy: 0.8777 - val_loss: 0.2876 - val_categorical_accuracy: 0.9167\n",
            "Epoch 7/10\n",
            "24/24 [==============================] - 7s 284ms/step - loss: 0.3013 - categorical_accuracy: 0.8936 - val_loss: 0.2719 - val_categorical_accuracy: 0.9048\n",
            "Epoch 8/10\n",
            "24/24 [==============================] - 7s 295ms/step - loss: 0.3820 - categorical_accuracy: 0.8697 - val_loss: 0.2940 - val_categorical_accuracy: 0.9167\n",
            "Epoch 9/10\n",
            "24/24 [==============================] - 7s 310ms/step - loss: 0.3395 - categorical_accuracy: 0.8590 - val_loss: 0.3401 - val_categorical_accuracy: 0.9286\n",
            "Epoch 10/10\n",
            "24/24 [==============================] - 7s 301ms/step - loss: 0.3775 - categorical_accuracy: 0.8883 - val_loss: 0.2550 - val_categorical_accuracy: 0.9286\n"
          ],
          "name": "stdout"
        }
      ]
    },
    {
      "cell_type": "code",
      "metadata": {
        "id": "lQdm1aTt1y9U"
      },
      "source": [
        "model = tf.keras.models.load_model('model.h5')"
      ],
      "execution_count": null,
      "outputs": []
    },
    {
      "cell_type": "code",
      "metadata": {
        "id": "W6GMxUYW2Ql2",
        "outputId": "4bd654f3-8c94-4baa-eb82-2989158023a4",
        "colab": {
          "base_uri": "https://localhost:8080/",
          "height": 237
        }
      },
      "source": [
        "import cv2\n",
        "import numpy as np\n",
        "cap = cv2.VideoCapture(0)\n",
        "\n",
        "fourcc = cv2.VideoWriter_fourcc('M','J','P','G')\n",
        "out = cv2.VideoWriter('output_count.avi',fourcc, 20.0,(int(cap.get(3)),int(cap.get(4))))\n",
        "\n",
        "ret, frame1 = cap.read()\n",
        "prvs = cv2.cvtColor(frame1,cv2.COLOR_BGR2GRAY)\n",
        "hsv = np.zeros_like(frame1)\n",
        "hsv[...,1] = 255\n",
        "i= 0\n",
        "prediction_str = \"\"\n",
        "repetitions = 0\n",
        "up = 0\n",
        "down = 0\n",
        "no_move = 0\n",
        "current_move = 0\n",
        "initial = -1\n",
        "while(cap.isOpened()):\n",
        "    i+=1\n",
        "    \n",
        "    ret, frame2 = cap.read()\n",
        "    if not(ret): break\n",
        "    next = cv2.cvtColor(frame2,cv2.COLOR_BGR2GRAY)\n",
        "\n",
        "    flow = cv2.calcOpticalFlowFarneback(prvs,next, None, 0.5, 3, 15, 3, 5, 1.2, 0)\n",
        "\n",
        "    \n",
        "\n",
        "    mag, ang = cv2.cartToPolar(flow[...,0], flow[...,1])\n",
        "    hsv[...,0] = ang*180/np.pi/2\n",
        "    hsv[...,2] = cv2.normalize(mag,None,0,255,cv2.NORM_MINMAX)\n",
        "    rgb = cv2.cvtColor(hsv,cv2.COLOR_HSV2BGR)\n",
        "\n",
        "    image = cv2.resize(rgb, (64, 64))\n",
        "    image = image.reshape((1,) + image.shape)\n",
        "    image = image/255.0\n",
        "    prediction = np.argmax(model.predict(image), axis=-1)[0]\n",
        "    \n",
        "    if prediction == 0:\n",
        "        down +=1 \n",
        "        if down == 3:\n",
        "          if initial == -1:\n",
        "            initial = 0\n",
        "          if current_move == 2:\n",
        "            repetitions+=1\n",
        "          current_move = 0\n",
        "        elif down > 0:\n",
        "          up = 0\n",
        "          no_move = 0\n",
        "    elif prediction == 2:\n",
        "        up += 1\n",
        "        if up == 3 and initial != -1:\n",
        "          current_move = 2\n",
        "        elif up > 1:\n",
        "          down = 0 \n",
        "          no_move = 0\n",
        "    else:\n",
        "        no_move += 1\n",
        "        if no_move == 15:\n",
        "          current_move = 1\n",
        "        elif no_move > 10:\n",
        "          up = 0\n",
        "          down = 0 \n",
        "    font                   = cv2.FONT_HERSHEY_SIMPLEX\n",
        "    bottomLeftCornerOfText = (10,400)\n",
        "    fontScale              = 1\n",
        "    fontColor              = (255,255,255)\n",
        "    lineType               = 5\n",
        "    cv2.putText(frame2, \"Count: \"+ str(repetitions),bottomLeftCornerOfText,font, fontScale,fontColor,lineType)\n",
        "    out.write(frame2)\n",
        "    prvs = next\n",
        "\n",
        "print(\"Video Generated\")\n",
        "out.release()\n",
        "cap.release()\n",
        "cv2.destroyAllWindows()"
      ],
      "execution_count": null,
      "outputs": [
        {
          "output_type": "error",
          "ename": "error",
          "evalue": "ignored",
          "traceback": [
            "\u001b[0;31m---------------------------------------------------------------------------\u001b[0m",
            "\u001b[0;31merror\u001b[0m                                     Traceback (most recent call last)",
            "\u001b[0;32m<ipython-input-17-b1b4a6776aab>\u001b[0m in \u001b[0;36m<module>\u001b[0;34m()\u001b[0m\n\u001b[1;32m      7\u001b[0m \u001b[0;34m\u001b[0m\u001b[0m\n\u001b[1;32m      8\u001b[0m \u001b[0mret\u001b[0m\u001b[0;34m,\u001b[0m \u001b[0mframe1\u001b[0m \u001b[0;34m=\u001b[0m \u001b[0mcap\u001b[0m\u001b[0;34m.\u001b[0m\u001b[0mread\u001b[0m\u001b[0;34m(\u001b[0m\u001b[0;34m)\u001b[0m\u001b[0;34m\u001b[0m\u001b[0;34m\u001b[0m\u001b[0m\n\u001b[0;32m----> 9\u001b[0;31m \u001b[0mprvs\u001b[0m \u001b[0;34m=\u001b[0m \u001b[0mcv2\u001b[0m\u001b[0;34m.\u001b[0m\u001b[0mcvtColor\u001b[0m\u001b[0;34m(\u001b[0m\u001b[0mframe1\u001b[0m\u001b[0;34m,\u001b[0m\u001b[0mcv2\u001b[0m\u001b[0;34m.\u001b[0m\u001b[0mCOLOR_BGR2GRAY\u001b[0m\u001b[0;34m)\u001b[0m\u001b[0;34m\u001b[0m\u001b[0;34m\u001b[0m\u001b[0m\n\u001b[0m\u001b[1;32m     10\u001b[0m \u001b[0mhsv\u001b[0m \u001b[0;34m=\u001b[0m \u001b[0mnp\u001b[0m\u001b[0;34m.\u001b[0m\u001b[0mzeros_like\u001b[0m\u001b[0;34m(\u001b[0m\u001b[0mframe1\u001b[0m\u001b[0;34m)\u001b[0m\u001b[0;34m\u001b[0m\u001b[0;34m\u001b[0m\u001b[0m\n\u001b[1;32m     11\u001b[0m \u001b[0mhsv\u001b[0m\u001b[0;34m[\u001b[0m\u001b[0;34m...\u001b[0m\u001b[0;34m,\u001b[0m\u001b[0;36m1\u001b[0m\u001b[0;34m]\u001b[0m \u001b[0;34m=\u001b[0m \u001b[0;36m255\u001b[0m\u001b[0;34m\u001b[0m\u001b[0;34m\u001b[0m\u001b[0m\n",
            "\u001b[0;31merror\u001b[0m: OpenCV(4.1.2) /io/opencv/modules/imgproc/src/color.cpp:182: error: (-215:Assertion failed) !_src.empty() in function 'cvtColor'\n"
          ]
        }
      ]
    },
    {
      "cell_type": "code",
      "metadata": {
        "id": "IkGUIH_92XC6"
      },
      "source": [
        ""
      ],
      "execution_count": null,
      "outputs": []
    }
  ]
}